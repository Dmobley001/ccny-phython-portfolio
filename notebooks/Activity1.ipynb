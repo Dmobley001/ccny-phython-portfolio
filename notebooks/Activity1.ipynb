Activity 1
For this activity, we will be familiarizing ourselves with creating Python variables and data types.

Please make sure you open this file in Jupyter Notebook or Google Colab -- you will have to either open Jupyter Notebook first or upload the file to Google Colab before being able to edit the file. In turn, make sure that you print your output for every response in the activity.

Submission Instructions
Upload the completed activity to the "Activities" and "Reflections" folders of your GitHub portfolio;
Ensure your submission consists of two files: (a) one reflection in markdown uploaded to "Reflections" (e.g. a1_reflection.md); and (b) one Jupyter notebook with completed responses for each step of the activity (e.g. a1_building_blocks.ipynb).
Please respond with your code in the cells.

[1]
0s
Variable1 = "first"
print("Variable1")
first = "Dontay"
Variable1
Create a variable for your first name called first.
Create a variable for your last name called last.

[2]
0s
Variable1 = "last"
print("Variable1")
last = "Mobley"
Variable1
Create a variable for your age called age.

[3]
0s
Varable1 = ("age")
print("age")
age = "21"

age
Using the variables you have created, create a new variable name by joining your first and last names together.

[11]
0s
Variable1 = "first + last"
print("Variable1")
first + last == "Dontay Mobley"
Variable1
False
Use string methods to convert the variable activity1 = " THIS IS MY FIRST PYTHON ACTIVITY!! " to lowercase and remove any leading or trailing white space, then print the output as a new variable: activity1_lower.

[6]
activity1 = " WOOHOO! THIS IS MY FIRST PYTHON ACTIVITY!! "
" WOOHOO! THIS IS MY FIRST PYTHON ACTIVITY!! " . lower()
activity1_lower = " woohoo! this is my first python activity "

What data type is the variable age? Declare the value and print the data type.

[13]
0s
21.0
21.0
What happens when you add 10 to your name? Please demonstrate it in the cell below and add an inline comment that provides a brief explanation of the result.

[16]
0s
from sre_constants import error
error

Declare a variable that asks for user input, then print the variable storing their response as the output

[15]

Start coding or generate with AI.

Side quest challenge
This side quest is an extra credit challenge. You can still get full credit for this activity even if you do not complete this challenge.

Use f-string formatting to display your name and age in a sentence.

Check out Kyle Bradbury and Nick Eubank's introduction to f-strings.


