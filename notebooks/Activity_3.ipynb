{
  "cells": [
    {
      "cell_type": "markdown",
      "id": "26550237-15cd-45e2-81e1-556bad05a917",
      "metadata": {
        "id": "26550237-15cd-45e2-81e1-556bad05a917"
      },
      "source": [
        "# Activity 3: Practicing with Pandas"
      ]
    },
    {
      "cell_type": "markdown",
      "id": "4765796a-69ae-4a80-9529-2843912df581",
      "metadata": {
        "id": "4765796a-69ae-4a80-9529-2843912df581"
      },
      "source": [
        "For this activity, we will assume the role of a data scientist in the search for and evaluation of public datasets. In turn, pay close attention to the dataset you choose for counter narratives or nonapparent political values, gaps or underrepresented perspectives.\n",
        "\n",
        "Please make sure you open this file in Jupyter Notebook or Google Colab -- you will have to either open Jupyter Notebook first or upload the file to Google Colab before being able to edit the file.\n",
        "\n",
        "Please make sure you **print your output.** You may need to use ```print``` for your output to be displayed.\n",
        "\n",
        "-----\n",
        "## Submission Instructions\n",
        "1. Upload the completed activity to the \"Activities\" folder of your GitHub Portfolio;\n",
        "2. Ensure your submission consists of two files: <br/>(a) one single-page reflection in markdown (e.g. `a3_reflection.md`);  <br/>(b) one Jupyter notebook with completed responses to each activity step (e.g. `a3_pandas.ipynb`)."
      ]
    },
    {
      "cell_type": "markdown",
      "id": "b87c910a-66ee-4166-9737-546b68d3e61e",
      "metadata": {
        "id": "b87c910a-66ee-4166-9737-546b68d3e61e"
      },
      "source": [
        "## Data biography: Trans-Atlantic Slave Trade dataset\n",
        "\n",
        "To complete the assignment, please make sure you download the dataset from where it hosted on our GitHub: [Trans-Atlantic-Slave-Trade_Americas.csv](https://github.com/zmuhls/ccny-data-science/blob/main/assets/datasets/Trans-Atlantic-Slave-Trade_Americas.csv)"
      ]
    },
    {
      "cell_type": "markdown",
      "id": "8749ea10-27e1-4210-b638-abe62a45f609",
      "metadata": {
        "id": "8749ea10-27e1-4210-b638-abe62a45f609"
      },
      "source": [
        "## Data Biography (1-2 Paragraphs)\n",
        "\n",
        "Before you begin your exploration, you will provide a short data biography (1 - 2 paragraphs) on the dataset that addresses **where the data came from, who collected it, and the original intention(s) for its collection.**\n",
        "\n",
        "You may find the following sources useful for your research:\n",
        "* [Slave Voyages' Trans-Atlantic Slave Trade methodology](https://www.slavevoyages.org/voyage/about#methodology/introduction/0/en/)\n",
        "    * You may find the sections: Introduction, Coverage of the Slave Trade, and Nature of Sources particularly useful.\n",
        "* [Slave Voyages' About](https://www.slavevoyages.org/about/about#)\n",
        "* [Jamelle Bouie's We Still Can’t See American Slavery for What It Was](https://csc10800.github.io/assets/pdf/Bouie_we_still_cant_see_american_slavery_for_what_it_is.pdf)"
      ]
    },
    {
      "cell_type": "markdown",
      "id": "a40ee643-dbe8-4059-8953-95c11f938235",
      "metadata": {
        "jp-MarkdownHeadingCollapsed": true,
        "id": "a40ee643-dbe8-4059-8953-95c11f938235"
      },
      "source": [
        "**Enclose Data Biography below (1-2 Paragraph)**:\n",
        "After reading the article \"We Still Can't See Slavery For What It Was\" by Jamelle Bouie, the article gave me clear insight on how exactly data was being collected during slavery and why. Well, first the reason why is because this data is of course a part of history; furthermore, has to exactly let historians, teachers, observers or readers know exactly the population of slaves being human trafficked and shipped from the western coast of Africa to the Western Hemisphere.\n",
        "According to this article, I found out that 12.5 million people were human trafficked and were being brought to the western hemisphere. How was this found out? Well, that is because people such as students and historians are people who found this information. They kept track of the amount slave voyages\n",
        "\n",
        "\n",
        "\n",
        "> Add blockquote\n",
        "\n",
        "\n"
      ]
    },
    {
      "cell_type": "markdown",
      "id": "1dc86a86-51b2-4bcf-8ad4-18901364e363",
      "metadata": {
        "id": "1dc86a86-51b2-4bcf-8ad4-18901364e363"
      },
      "source": [
        "-----"
      ]
    },
    {
      "cell_type": "markdown",
      "id": "4769c8e1-a906-4f5d-9b34-0ab30e613d81",
      "metadata": {
        "id": "4769c8e1-a906-4f5d-9b34-0ab30e613d81"
      },
      "source": [
        "## Download and explore dataset\n",
        "\n",
        "As we have been practicing in class, the questions that follow will require you to consider what output you will need before running the appropriate python codes.\n",
        "\n",
        "To ensure your code runs, please remember to load ```pandas``` and the ```Trans-Atlantic-Slave-Trade_Americas.csv``` file into the jupyter notebook environment.\n",
        "\n",
        "If you are running this on Google Colab, please make sure you connect your google drive with your Colab notebook first before attempting the exercise:\n",
        "```\n",
        "from google.colab import drive\n",
        "drive.mount('/content/drive')\n",
        "```"
      ]
    },
    {
      "cell_type": "code",
      "execution_count": null,
      "id": "c79198e7-340c-4f70-bdb6-4bc50750a6f3",
      "metadata": {
        "id": "c79198e7-340c-4f70-bdb6-4bc50750a6f3",
        "outputId": "c1e9de4d-561d-432e-c3bd-532ce80d2217",
        "colab": {
          "base_uri": "https://localhost:8080/"
        }
      },
      "outputs": [
        {
          "output_type": "stream",
          "name": "stdout",
          "text": [
            "Mounted at /content/drive\n"
          ]
        }
      ],
      "source": [
        "import pandas as pd\n",
        "from google.colab import drive\n",
        "drive.mount('/content/drive')"
      ]
    },
    {
      "cell_type": "markdown",
      "id": "1dd42939-8b33-40be-9633-877c4142dcdb",
      "metadata": {
        "id": "1dd42939-8b33-40be-9633-877c4142dcdb"
      },
      "source": [
        "### 2. How many rows of data does the dataset contain?</br>\n",
        "In this first step, you’ll load the dataset and examine its structure. Loading data is foundational in data science and digital humanities workflows. You’ll use the `pandas` library to read a CSV file and display its first few rows.</br>\n",
        "* **Hint**: See Melanie Walsh's chapter on Pandas Basics if you're stuck: [Pandas Basics – Part 1](https://melaniewalsh.github.io/Intro-Cultural-Analytics/03-Data-Analysis/01-Pandas-Basics-Part1.html)).\n",
        "\n"
      ]
    },
    {
      "cell_type": "code",
      "execution_count": null,
      "id": "a3afd56e-4d46-4d01-be8b-a65380a1f681",
      "metadata": {
        "id": "a3afd56e-4d46-4d01-be8b-a65380a1f681"
      },
      "outputs": [],
      "source": [
        "slave_voyages_df = pd.read_csv('/content/Trans-Atlantic-Slave-Trade_Americas.csv', delimiter=\",\", encoding='utf-8')"
      ]
    },
    {
      "cell_type": "code",
      "source": [
        "slave_voyages_df"
      ],
      "metadata": {
        "id": "Bk7RhhZHzN4X",
        "outputId": "790a31c1-4f8d-46d3-96d3-2e9feea65c8a",
        "colab": {
          "base_uri": "https://localhost:8080/",
          "height": 669
        }
      },
      "id": "Bk7RhhZHzN4X",
      "execution_count": null,
      "outputs": [
        {
          "output_type": "execute_result",
          "data": {
            "text/plain": [
              "       year_of_arrival               flag          place_of_purchase  \\\n",
              "0                 1520                NaN          Portuguese Guinea   \n",
              "1                 1525  Portugal / Brazil                   Sao Tome   \n",
              "2                 1526    Spain / Uruguay         Cape Verde Islands   \n",
              "3                 1526    Spain / Uruguay         Cape Verde Islands   \n",
              "4                 1526                NaN         Cape Verde Islands   \n",
              "...                ...                ...                        ...   \n",
              "20774             1864    Spain / Uruguay  Africa., port unspecified   \n",
              "20775             1865    Spain / Uruguay  Africa., port unspecified   \n",
              "20776             1865                NaN  Africa., port unspecified   \n",
              "20777             1865                NaN                Congo River   \n",
              "20778             1866                NaN  Africa., port unspecified   \n",
              "\n",
              "                     place_of_landing  percent_women  percent_children  \\\n",
              "0                            San Juan            NaN               NaN   \n",
              "1             Hispaniola, unspecified            NaN               NaN   \n",
              "2              Cuba, port unspecified            NaN               NaN   \n",
              "3              Cuba, port unspecified            NaN               NaN   \n",
              "4      Caribbean (colony unspecified)            NaN               NaN   \n",
              "...                               ...            ...               ...   \n",
              "20774          Cuba, port unspecified            NaN               NaN   \n",
              "20775                   Isla de Pinas            NaN               NaN   \n",
              "20776                          Mariel            NaN               NaN   \n",
              "20777          Cuba, port unspecified            NaN               NaN   \n",
              "20778          Cuba, port unspecified            NaN               NaN   \n",
              "\n",
              "       percent_men  total_embarked  total_disembarked    resistance_label  \\\n",
              "0              NaN           324.0              259.0                 NaN   \n",
              "1              NaN           359.0              287.0                 NaN   \n",
              "2              NaN           359.0              287.0                 NaN   \n",
              "3              NaN           359.0              287.0                 NaN   \n",
              "4              NaN           359.0              287.0                 NaN   \n",
              "...            ...             ...                ...                 ...   \n",
              "20774          NaN           488.0              465.0                 NaN   \n",
              "20775          NaN           152.0              145.0  Slave insurrection   \n",
              "20776          NaN           780.0              650.0                 NaN   \n",
              "20777          NaN          1265.0             1004.0                 NaN   \n",
              "20778          NaN           851.0              700.0                 NaN   \n",
              "\n",
              "             vessel_name       captain's_name  voyage_id  \\\n",
              "0                                         NaN      42987   \n",
              "1      S Maria de Bogoña       Monteiro, Pero      46473   \n",
              "2                         Carega, Esteban (?)      11297   \n",
              "3                         Carega, Esteban (?)      11298   \n",
              "4                S Anton        Leon, Juan de      42631   \n",
              "...                  ...                  ...        ...   \n",
              "20774             Polaca                  NaN      46554   \n",
              "20775               Gato                  NaN       4394   \n",
              "20776                                     NaN       4395   \n",
              "20777            Cicerón             Mesquita       5052   \n",
              "20778                                     NaN       4998   \n",
              "\n",
              "                                                 sources  \n",
              "0      [u'AGI,Patronato 175, r.9<><p><em>AG!</em> (Se...  \n",
              "1      [u'ANTT,CC,Parte II, maco 131, doc 54<><i>Inst...  \n",
              "2      [u'Pike,60-1,172<>Pike, Ruth, <i>Enterprise</i...  \n",
              "3      [u'Pike,60-1,172<>Pike, Ruth, <i>Enterprise</i...  \n",
              "4      [u'Chaunus, 3: 162-63<><p>Chaunus, <em>xxxxxx<...  \n",
              "...                                                  ...  \n",
              "20774  [u'AHNM, Ultramar, Leg. 3551, 6<><i>Archivo Hi...  \n",
              "20775  [u'IUP,ST,50/B/137<>Great Britain, <i>Irish Un...  \n",
              "20776  [u'IUP,ST,50/B/144<>Great Britain, <i>Irish Un...  \n",
              "20777  [u'IUP,ST,50/A/23-4<>Great Britain, <i>Irish U...  \n",
              "20778  [u'IUP,ST,50/B/220<>Great Britain, <i>Irish Un...  \n",
              "\n",
              "[20779 rows x 14 columns]"
            ],
            "text/html": [
              "\n",
              "  <div id=\"df-8aec460b-1280-48f0-ab90-910ee1a4c6fb\" class=\"colab-df-container\">\n",
              "    <div>\n",
              "<style scoped>\n",
              "    .dataframe tbody tr th:only-of-type {\n",
              "        vertical-align: middle;\n",
              "    }\n",
              "\n",
              "    .dataframe tbody tr th {\n",
              "        vertical-align: top;\n",
              "    }\n",
              "\n",
              "    .dataframe thead th {\n",
              "        text-align: right;\n",
              "    }\n",
              "</style>\n",
              "<table border=\"1\" class=\"dataframe\">\n",
              "  <thead>\n",
              "    <tr style=\"text-align: right;\">\n",
              "      <th></th>\n",
              "      <th>year_of_arrival</th>\n",
              "      <th>flag</th>\n",
              "      <th>place_of_purchase</th>\n",
              "      <th>place_of_landing</th>\n",
              "      <th>percent_women</th>\n",
              "      <th>percent_children</th>\n",
              "      <th>percent_men</th>\n",
              "      <th>total_embarked</th>\n",
              "      <th>total_disembarked</th>\n",
              "      <th>resistance_label</th>\n",
              "      <th>vessel_name</th>\n",
              "      <th>captain's_name</th>\n",
              "      <th>voyage_id</th>\n",
              "      <th>sources</th>\n",
              "    </tr>\n",
              "  </thead>\n",
              "  <tbody>\n",
              "    <tr>\n",
              "      <th>0</th>\n",
              "      <td>1520</td>\n",
              "      <td>NaN</td>\n",
              "      <td>Portuguese Guinea</td>\n",
              "      <td>San Juan</td>\n",
              "      <td>NaN</td>\n",
              "      <td>NaN</td>\n",
              "      <td>NaN</td>\n",
              "      <td>324.0</td>\n",
              "      <td>259.0</td>\n",
              "      <td>NaN</td>\n",
              "      <td></td>\n",
              "      <td>NaN</td>\n",
              "      <td>42987</td>\n",
              "      <td>[u'AGI,Patronato 175, r.9&lt;&gt;&lt;p&gt;&lt;em&gt;AG!&lt;/em&gt; (Se...</td>\n",
              "    </tr>\n",
              "    <tr>\n",
              "      <th>1</th>\n",
              "      <td>1525</td>\n",
              "      <td>Portugal / Brazil</td>\n",
              "      <td>Sao Tome</td>\n",
              "      <td>Hispaniola, unspecified</td>\n",
              "      <td>NaN</td>\n",
              "      <td>NaN</td>\n",
              "      <td>NaN</td>\n",
              "      <td>359.0</td>\n",
              "      <td>287.0</td>\n",
              "      <td>NaN</td>\n",
              "      <td>S Maria de Bogoña</td>\n",
              "      <td>Monteiro, Pero</td>\n",
              "      <td>46473</td>\n",
              "      <td>[u'ANTT,CC,Parte II, maco 131, doc 54&lt;&gt;&lt;i&gt;Inst...</td>\n",
              "    </tr>\n",
              "    <tr>\n",
              "      <th>2</th>\n",
              "      <td>1526</td>\n",
              "      <td>Spain / Uruguay</td>\n",
              "      <td>Cape Verde Islands</td>\n",
              "      <td>Cuba, port unspecified</td>\n",
              "      <td>NaN</td>\n",
              "      <td>NaN</td>\n",
              "      <td>NaN</td>\n",
              "      <td>359.0</td>\n",
              "      <td>287.0</td>\n",
              "      <td>NaN</td>\n",
              "      <td></td>\n",
              "      <td>Carega, Esteban (?)</td>\n",
              "      <td>11297</td>\n",
              "      <td>[u'Pike,60-1,172&lt;&gt;Pike, Ruth, &lt;i&gt;Enterprise&lt;/i...</td>\n",
              "    </tr>\n",
              "    <tr>\n",
              "      <th>3</th>\n",
              "      <td>1526</td>\n",
              "      <td>Spain / Uruguay</td>\n",
              "      <td>Cape Verde Islands</td>\n",
              "      <td>Cuba, port unspecified</td>\n",
              "      <td>NaN</td>\n",
              "      <td>NaN</td>\n",
              "      <td>NaN</td>\n",
              "      <td>359.0</td>\n",
              "      <td>287.0</td>\n",
              "      <td>NaN</td>\n",
              "      <td></td>\n",
              "      <td>Carega, Esteban (?)</td>\n",
              "      <td>11298</td>\n",
              "      <td>[u'Pike,60-1,172&lt;&gt;Pike, Ruth, &lt;i&gt;Enterprise&lt;/i...</td>\n",
              "    </tr>\n",
              "    <tr>\n",
              "      <th>4</th>\n",
              "      <td>1526</td>\n",
              "      <td>NaN</td>\n",
              "      <td>Cape Verde Islands</td>\n",
              "      <td>Caribbean (colony unspecified)</td>\n",
              "      <td>NaN</td>\n",
              "      <td>NaN</td>\n",
              "      <td>NaN</td>\n",
              "      <td>359.0</td>\n",
              "      <td>287.0</td>\n",
              "      <td>NaN</td>\n",
              "      <td>S Anton</td>\n",
              "      <td>Leon, Juan de</td>\n",
              "      <td>42631</td>\n",
              "      <td>[u'Chaunus, 3: 162-63&lt;&gt;&lt;p&gt;Chaunus, &lt;em&gt;xxxxxx&lt;...</td>\n",
              "    </tr>\n",
              "    <tr>\n",
              "      <th>...</th>\n",
              "      <td>...</td>\n",
              "      <td>...</td>\n",
              "      <td>...</td>\n",
              "      <td>...</td>\n",
              "      <td>...</td>\n",
              "      <td>...</td>\n",
              "      <td>...</td>\n",
              "      <td>...</td>\n",
              "      <td>...</td>\n",
              "      <td>...</td>\n",
              "      <td>...</td>\n",
              "      <td>...</td>\n",
              "      <td>...</td>\n",
              "      <td>...</td>\n",
              "    </tr>\n",
              "    <tr>\n",
              "      <th>20774</th>\n",
              "      <td>1864</td>\n",
              "      <td>Spain / Uruguay</td>\n",
              "      <td>Africa., port unspecified</td>\n",
              "      <td>Cuba, port unspecified</td>\n",
              "      <td>NaN</td>\n",
              "      <td>NaN</td>\n",
              "      <td>NaN</td>\n",
              "      <td>488.0</td>\n",
              "      <td>465.0</td>\n",
              "      <td>NaN</td>\n",
              "      <td>Polaca</td>\n",
              "      <td>NaN</td>\n",
              "      <td>46554</td>\n",
              "      <td>[u'AHNM, Ultramar, Leg. 3551, 6&lt;&gt;&lt;i&gt;Archivo Hi...</td>\n",
              "    </tr>\n",
              "    <tr>\n",
              "      <th>20775</th>\n",
              "      <td>1865</td>\n",
              "      <td>Spain / Uruguay</td>\n",
              "      <td>Africa., port unspecified</td>\n",
              "      <td>Isla de Pinas</td>\n",
              "      <td>NaN</td>\n",
              "      <td>NaN</td>\n",
              "      <td>NaN</td>\n",
              "      <td>152.0</td>\n",
              "      <td>145.0</td>\n",
              "      <td>Slave insurrection</td>\n",
              "      <td>Gato</td>\n",
              "      <td>NaN</td>\n",
              "      <td>4394</td>\n",
              "      <td>[u'IUP,ST,50/B/137&lt;&gt;Great Britain, &lt;i&gt;Irish Un...</td>\n",
              "    </tr>\n",
              "    <tr>\n",
              "      <th>20776</th>\n",
              "      <td>1865</td>\n",
              "      <td>NaN</td>\n",
              "      <td>Africa., port unspecified</td>\n",
              "      <td>Mariel</td>\n",
              "      <td>NaN</td>\n",
              "      <td>NaN</td>\n",
              "      <td>NaN</td>\n",
              "      <td>780.0</td>\n",
              "      <td>650.0</td>\n",
              "      <td>NaN</td>\n",
              "      <td></td>\n",
              "      <td>NaN</td>\n",
              "      <td>4395</td>\n",
              "      <td>[u'IUP,ST,50/B/144&lt;&gt;Great Britain, &lt;i&gt;Irish Un...</td>\n",
              "    </tr>\n",
              "    <tr>\n",
              "      <th>20777</th>\n",
              "      <td>1865</td>\n",
              "      <td>NaN</td>\n",
              "      <td>Congo River</td>\n",
              "      <td>Cuba, port unspecified</td>\n",
              "      <td>NaN</td>\n",
              "      <td>NaN</td>\n",
              "      <td>NaN</td>\n",
              "      <td>1265.0</td>\n",
              "      <td>1004.0</td>\n",
              "      <td>NaN</td>\n",
              "      <td>Cicerón</td>\n",
              "      <td>Mesquita</td>\n",
              "      <td>5052</td>\n",
              "      <td>[u'IUP,ST,50/A/23-4&lt;&gt;Great Britain, &lt;i&gt;Irish U...</td>\n",
              "    </tr>\n",
              "    <tr>\n",
              "      <th>20778</th>\n",
              "      <td>1866</td>\n",
              "      <td>NaN</td>\n",
              "      <td>Africa., port unspecified</td>\n",
              "      <td>Cuba, port unspecified</td>\n",
              "      <td>NaN</td>\n",
              "      <td>NaN</td>\n",
              "      <td>NaN</td>\n",
              "      <td>851.0</td>\n",
              "      <td>700.0</td>\n",
              "      <td>NaN</td>\n",
              "      <td></td>\n",
              "      <td>NaN</td>\n",
              "      <td>4998</td>\n",
              "      <td>[u'IUP,ST,50/B/220&lt;&gt;Great Britain, &lt;i&gt;Irish Un...</td>\n",
              "    </tr>\n",
              "  </tbody>\n",
              "</table>\n",
              "<p>20779 rows × 14 columns</p>\n",
              "</div>\n",
              "    <div class=\"colab-df-buttons\">\n",
              "\n",
              "  <div class=\"colab-df-container\">\n",
              "    <button class=\"colab-df-convert\" onclick=\"convertToInteractive('df-8aec460b-1280-48f0-ab90-910ee1a4c6fb')\"\n",
              "            title=\"Convert this dataframe to an interactive table.\"\n",
              "            style=\"display:none;\">\n",
              "\n",
              "  <svg xmlns=\"http://www.w3.org/2000/svg\" height=\"24px\" viewBox=\"0 -960 960 960\">\n",
              "    <path d=\"M120-120v-720h720v720H120Zm60-500h600v-160H180v160Zm220 220h160v-160H400v160Zm0 220h160v-160H400v160ZM180-400h160v-160H180v160Zm440 0h160v-160H620v160ZM180-180h160v-160H180v160Zm440 0h160v-160H620v160Z\"/>\n",
              "  </svg>\n",
              "    </button>\n",
              "\n",
              "  <style>\n",
              "    .colab-df-container {\n",
              "      display:flex;\n",
              "      gap: 12px;\n",
              "    }\n",
              "\n",
              "    .colab-df-convert {\n",
              "      background-color: #E8F0FE;\n",
              "      border: none;\n",
              "      border-radius: 50%;\n",
              "      cursor: pointer;\n",
              "      display: none;\n",
              "      fill: #1967D2;\n",
              "      height: 32px;\n",
              "      padding: 0 0 0 0;\n",
              "      width: 32px;\n",
              "    }\n",
              "\n",
              "    .colab-df-convert:hover {\n",
              "      background-color: #E2EBFA;\n",
              "      box-shadow: 0px 1px 2px rgba(60, 64, 67, 0.3), 0px 1px 3px 1px rgba(60, 64, 67, 0.15);\n",
              "      fill: #174EA6;\n",
              "    }\n",
              "\n",
              "    .colab-df-buttons div {\n",
              "      margin-bottom: 4px;\n",
              "    }\n",
              "\n",
              "    [theme=dark] .colab-df-convert {\n",
              "      background-color: #3B4455;\n",
              "      fill: #D2E3FC;\n",
              "    }\n",
              "\n",
              "    [theme=dark] .colab-df-convert:hover {\n",
              "      background-color: #434B5C;\n",
              "      box-shadow: 0px 1px 3px 1px rgba(0, 0, 0, 0.15);\n",
              "      filter: drop-shadow(0px 1px 2px rgba(0, 0, 0, 0.3));\n",
              "      fill: #FFFFFF;\n",
              "    }\n",
              "  </style>\n",
              "\n",
              "    <script>\n",
              "      const buttonEl =\n",
              "        document.querySelector('#df-8aec460b-1280-48f0-ab90-910ee1a4c6fb button.colab-df-convert');\n",
              "      buttonEl.style.display =\n",
              "        google.colab.kernel.accessAllowed ? 'block' : 'none';\n",
              "\n",
              "      async function convertToInteractive(key) {\n",
              "        const element = document.querySelector('#df-8aec460b-1280-48f0-ab90-910ee1a4c6fb');\n",
              "        const dataTable =\n",
              "          await google.colab.kernel.invokeFunction('convertToInteractive',\n",
              "                                                    [key], {});\n",
              "        if (!dataTable) return;\n",
              "\n",
              "        const docLinkHtml = 'Like what you see? Visit the ' +\n",
              "          '<a target=\"_blank\" href=https://colab.research.google.com/notebooks/data_table.ipynb>data table notebook</a>'\n",
              "          + ' to learn more about interactive tables.';\n",
              "        element.innerHTML = '';\n",
              "        dataTable['output_type'] = 'display_data';\n",
              "        await google.colab.output.renderOutput(dataTable, element);\n",
              "        const docLink = document.createElement('div');\n",
              "        docLink.innerHTML = docLinkHtml;\n",
              "        element.appendChild(docLink);\n",
              "      }\n",
              "    </script>\n",
              "  </div>\n",
              "\n",
              "\n",
              "<div id=\"df-bd23847a-2e86-475f-a0cf-46f395d97830\">\n",
              "  <button class=\"colab-df-quickchart\" onclick=\"quickchart('df-bd23847a-2e86-475f-a0cf-46f395d97830')\"\n",
              "            title=\"Suggest charts\"\n",
              "            style=\"display:none;\">\n",
              "\n",
              "<svg xmlns=\"http://www.w3.org/2000/svg\" height=\"24px\"viewBox=\"0 0 24 24\"\n",
              "     width=\"24px\">\n",
              "    <g>\n",
              "        <path d=\"M19 3H5c-1.1 0-2 .9-2 2v14c0 1.1.9 2 2 2h14c1.1 0 2-.9 2-2V5c0-1.1-.9-2-2-2zM9 17H7v-7h2v7zm4 0h-2V7h2v10zm4 0h-2v-4h2v4z\"/>\n",
              "    </g>\n",
              "</svg>\n",
              "  </button>\n",
              "\n",
              "<style>\n",
              "  .colab-df-quickchart {\n",
              "      --bg-color: #E8F0FE;\n",
              "      --fill-color: #1967D2;\n",
              "      --hover-bg-color: #E2EBFA;\n",
              "      --hover-fill-color: #174EA6;\n",
              "      --disabled-fill-color: #AAA;\n",
              "      --disabled-bg-color: #DDD;\n",
              "  }\n",
              "\n",
              "  [theme=dark] .colab-df-quickchart {\n",
              "      --bg-color: #3B4455;\n",
              "      --fill-color: #D2E3FC;\n",
              "      --hover-bg-color: #434B5C;\n",
              "      --hover-fill-color: #FFFFFF;\n",
              "      --disabled-bg-color: #3B4455;\n",
              "      --disabled-fill-color: #666;\n",
              "  }\n",
              "\n",
              "  .colab-df-quickchart {\n",
              "    background-color: var(--bg-color);\n",
              "    border: none;\n",
              "    border-radius: 50%;\n",
              "    cursor: pointer;\n",
              "    display: none;\n",
              "    fill: var(--fill-color);\n",
              "    height: 32px;\n",
              "    padding: 0;\n",
              "    width: 32px;\n",
              "  }\n",
              "\n",
              "  .colab-df-quickchart:hover {\n",
              "    background-color: var(--hover-bg-color);\n",
              "    box-shadow: 0 1px 2px rgba(60, 64, 67, 0.3), 0 1px 3px 1px rgba(60, 64, 67, 0.15);\n",
              "    fill: var(--button-hover-fill-color);\n",
              "  }\n",
              "\n",
              "  .colab-df-quickchart-complete:disabled,\n",
              "  .colab-df-quickchart-complete:disabled:hover {\n",
              "    background-color: var(--disabled-bg-color);\n",
              "    fill: var(--disabled-fill-color);\n",
              "    box-shadow: none;\n",
              "  }\n",
              "\n",
              "  .colab-df-spinner {\n",
              "    border: 2px solid var(--fill-color);\n",
              "    border-color: transparent;\n",
              "    border-bottom-color: var(--fill-color);\n",
              "    animation:\n",
              "      spin 1s steps(1) infinite;\n",
              "  }\n",
              "\n",
              "  @keyframes spin {\n",
              "    0% {\n",
              "      border-color: transparent;\n",
              "      border-bottom-color: var(--fill-color);\n",
              "      border-left-color: var(--fill-color);\n",
              "    }\n",
              "    20% {\n",
              "      border-color: transparent;\n",
              "      border-left-color: var(--fill-color);\n",
              "      border-top-color: var(--fill-color);\n",
              "    }\n",
              "    30% {\n",
              "      border-color: transparent;\n",
              "      border-left-color: var(--fill-color);\n",
              "      border-top-color: var(--fill-color);\n",
              "      border-right-color: var(--fill-color);\n",
              "    }\n",
              "    40% {\n",
              "      border-color: transparent;\n",
              "      border-right-color: var(--fill-color);\n",
              "      border-top-color: var(--fill-color);\n",
              "    }\n",
              "    60% {\n",
              "      border-color: transparent;\n",
              "      border-right-color: var(--fill-color);\n",
              "    }\n",
              "    80% {\n",
              "      border-color: transparent;\n",
              "      border-right-color: var(--fill-color);\n",
              "      border-bottom-color: var(--fill-color);\n",
              "    }\n",
              "    90% {\n",
              "      border-color: transparent;\n",
              "      border-bottom-color: var(--fill-color);\n",
              "    }\n",
              "  }\n",
              "</style>\n",
              "\n",
              "  <script>\n",
              "    async function quickchart(key) {\n",
              "      const quickchartButtonEl =\n",
              "        document.querySelector('#' + key + ' button');\n",
              "      quickchartButtonEl.disabled = true;  // To prevent multiple clicks.\n",
              "      quickchartButtonEl.classList.add('colab-df-spinner');\n",
              "      try {\n",
              "        const charts = await google.colab.kernel.invokeFunction(\n",
              "            'suggestCharts', [key], {});\n",
              "      } catch (error) {\n",
              "        console.error('Error during call to suggestCharts:', error);\n",
              "      }\n",
              "      quickchartButtonEl.classList.remove('colab-df-spinner');\n",
              "      quickchartButtonEl.classList.add('colab-df-quickchart-complete');\n",
              "    }\n",
              "    (() => {\n",
              "      let quickchartButtonEl =\n",
              "        document.querySelector('#df-bd23847a-2e86-475f-a0cf-46f395d97830 button');\n",
              "      quickchartButtonEl.style.display =\n",
              "        google.colab.kernel.accessAllowed ? 'block' : 'none';\n",
              "    })();\n",
              "  </script>\n",
              "</div>\n",
              "\n",
              "  <div id=\"id_60851a02-95b8-4ae8-9551-198e628cf94c\">\n",
              "    <style>\n",
              "      .colab-df-generate {\n",
              "        background-color: #E8F0FE;\n",
              "        border: none;\n",
              "        border-radius: 50%;\n",
              "        cursor: pointer;\n",
              "        display: none;\n",
              "        fill: #1967D2;\n",
              "        height: 32px;\n",
              "        padding: 0 0 0 0;\n",
              "        width: 32px;\n",
              "      }\n",
              "\n",
              "      .colab-df-generate:hover {\n",
              "        background-color: #E2EBFA;\n",
              "        box-shadow: 0px 1px 2px rgba(60, 64, 67, 0.3), 0px 1px 3px 1px rgba(60, 64, 67, 0.15);\n",
              "        fill: #174EA6;\n",
              "      }\n",
              "\n",
              "      [theme=dark] .colab-df-generate {\n",
              "        background-color: #3B4455;\n",
              "        fill: #D2E3FC;\n",
              "      }\n",
              "\n",
              "      [theme=dark] .colab-df-generate:hover {\n",
              "        background-color: #434B5C;\n",
              "        box-shadow: 0px 1px 3px 1px rgba(0, 0, 0, 0.15);\n",
              "        filter: drop-shadow(0px 1px 2px rgba(0, 0, 0, 0.3));\n",
              "        fill: #FFFFFF;\n",
              "      }\n",
              "    </style>\n",
              "    <button class=\"colab-df-generate\" onclick=\"generateWithVariable('slave_voyages_df')\"\n",
              "            title=\"Generate code using this dataframe.\"\n",
              "            style=\"display:none;\">\n",
              "\n",
              "  <svg xmlns=\"http://www.w3.org/2000/svg\" height=\"24px\"viewBox=\"0 0 24 24\"\n",
              "       width=\"24px\">\n",
              "    <path d=\"M7,19H8.4L18.45,9,17,7.55,7,17.6ZM5,21V16.75L18.45,3.32a2,2,0,0,1,2.83,0l1.4,1.43a1.91,1.91,0,0,1,.58,1.4,1.91,1.91,0,0,1-.58,1.4L9.25,21ZM18.45,9,17,7.55Zm-12,3A5.31,5.31,0,0,0,4.9,8.1,5.31,5.31,0,0,0,1,6.5,5.31,5.31,0,0,0,4.9,4.9,5.31,5.31,0,0,0,6.5,1,5.31,5.31,0,0,0,8.1,4.9,5.31,5.31,0,0,0,12,6.5,5.46,5.46,0,0,0,6.5,12Z\"/>\n",
              "  </svg>\n",
              "    </button>\n",
              "    <script>\n",
              "      (() => {\n",
              "      const buttonEl =\n",
              "        document.querySelector('#id_60851a02-95b8-4ae8-9551-198e628cf94c button.colab-df-generate');\n",
              "      buttonEl.style.display =\n",
              "        google.colab.kernel.accessAllowed ? 'block' : 'none';\n",
              "\n",
              "      buttonEl.onclick = () => {\n",
              "        google.colab.notebook.generateWithVariable('slave_voyages_df');\n",
              "      }\n",
              "      })();\n",
              "    </script>\n",
              "  </div>\n",
              "\n",
              "    </div>\n",
              "  </div>\n"
            ],
            "application/vnd.google.colaboratory.intrinsic+json": {
              "type": "dataframe",
              "variable_name": "slave_voyages_df",
              "summary": "{\n  \"name\": \"slave_voyages_df\",\n  \"rows\": 20779,\n  \"fields\": [\n    {\n      \"column\": \"year_of_arrival\",\n      \"properties\": {\n        \"dtype\": \"number\",\n        \"std\": 59,\n        \"min\": 1520,\n        \"max\": 1866,\n        \"num_unique_values\": 330,\n        \"samples\": [\n          1542,\n          1701,\n          1676\n        ],\n        \"semantic_type\": \"\",\n        \"description\": \"\"\n      }\n    },\n    {\n      \"column\": \"flag\",\n      \"properties\": {\n        \"dtype\": \"category\",\n        \"num_unique_values\": 8,\n        \"samples\": [\n          \"Spain / Uruguay\",\n          \"U.S.A.\",\n          \"Portugal / Brazil\"\n        ],\n        \"semantic_type\": \"\",\n        \"description\": \"\"\n      }\n    },\n    {\n      \"column\": \"place_of_purchase\",\n      \"properties\": {\n        \"dtype\": \"category\",\n        \"num_unique_values\": 156,\n        \"samples\": [\n          \"Ambriz\",\n          \"Cess\",\n          \"Galam\"\n        ],\n        \"semantic_type\": \"\",\n        \"description\": \"\"\n      }\n    },\n    {\n      \"column\": \"place_of_landing\",\n      \"properties\": {\n        \"dtype\": \"category\",\n        \"num_unique_values\": 187,\n        \"samples\": [\n          \"Mobile\",\n          \"Annapolis\",\n          \"Suriname\"\n        ],\n        \"semantic_type\": \"\",\n        \"description\": \"\"\n      }\n    },\n    {\n      \"column\": \"percent_women\",\n      \"properties\": {\n        \"dtype\": \"number\",\n        \"std\": 0.11716450656039482,\n        \"min\": 0.0,\n        \"max\": 1.0,\n        \"num_unique_values\": 2366,\n        \"samples\": [\n          0.20127,\n          0.26378,\n          0.17472\n        ],\n        \"semantic_type\": \"\",\n        \"description\": \"\"\n      }\n    },\n    {\n      \"column\": \"percent_children\",\n      \"properties\": {\n        \"dtype\": \"number\",\n        \"std\": 0.1498272501841525,\n        \"min\": 0.0,\n        \"max\": 1.0,\n        \"num_unique_values\": 2396,\n        \"samples\": [\n          0.64384,\n          0.11486,\n          0.21121\n        ],\n        \"semantic_type\": \"\",\n        \"description\": \"\"\n      }\n    },\n    {\n      \"column\": \"percent_men\",\n      \"properties\": {\n        \"dtype\": \"number\",\n        \"std\": 0.14175803833951098,\n        \"min\": 0.0,\n        \"max\": 1.0,\n        \"num_unique_values\": 2469,\n        \"samples\": [\n          0.98361,\n          0.60488,\n          0.51092\n        ],\n        \"semantic_type\": \"\",\n        \"description\": \"\"\n      }\n    },\n    {\n      \"column\": \"total_embarked\",\n      \"properties\": {\n        \"dtype\": \"number\",\n        \"std\": 148.0149976962869,\n        \"min\": 1.0,\n        \"max\": 2024.0,\n        \"num_unique_values\": 842,\n        \"samples\": [\n          568.0,\n          379.0,\n          554.0\n        ],\n        \"semantic_type\": \"\",\n        \"description\": \"\"\n      }\n    },\n    {\n      \"column\": \"total_disembarked\",\n      \"properties\": {\n        \"dtype\": \"number\",\n        \"std\": 128.06969090782025,\n        \"min\": 1.0,\n        \"max\": 1700.0,\n        \"num_unique_values\": 725,\n        \"samples\": [\n          10.0,\n          539.0,\n          412.0\n        ],\n        \"semantic_type\": \"\",\n        \"description\": \"\"\n      }\n    },\n    {\n      \"column\": \"resistance_label\",\n      \"properties\": {\n        \"dtype\": \"category\",\n        \"num_unique_values\": 6,\n        \"samples\": [\n          \"Slave insurrection\",\n          \"Three or more slaves jumping overboard, missing, or escaped\",\n          \"Cut-off (meaning unclear)\"\n        ],\n        \"semantic_type\": \"\",\n        \"description\": \"\"\n      }\n    },\n    {\n      \"column\": \"vessel_name\",\n      \"properties\": {\n        \"dtype\": \"category\",\n        \"num_unique_values\": 5849,\n        \"samples\": [\n          \"Bridgewater\",\n          \"Lamb Frigate\",\n          \"Joseph and Elizabeth\"\n        ],\n        \"semantic_type\": \"\",\n        \"description\": \"\"\n      }\n    },\n    {\n      \"column\": \"captain's_name\",\n      \"properties\": {\n        \"dtype\": \"string\",\n        \"num_unique_values\": 12233,\n        \"samples\": [\n          \"Hayston, Henry\",\n          \"Jones, David\",\n          \"Lawton, Geo (Jr)\"\n        ],\n        \"semantic_type\": \"\",\n        \"description\": \"\"\n      }\n    },\n    {\n      \"column\": \"voyage_id\",\n      \"properties\": {\n        \"dtype\": \"number\",\n        \"std\": 32388,\n        \"min\": 112,\n        \"max\": 900206,\n        \"num_unique_values\": 20741,\n        \"samples\": [\n          25373,\n          29007,\n          80255\n        ],\n        \"semantic_type\": \"\",\n        \"description\": \"\"\n      }\n    },\n    {\n      \"column\": \"sources\",\n      \"properties\": {\n        \"dtype\": \"string\",\n        \"num_unique_values\": 13754,\n        \"samples\": [\n          \"[u'T70/76,17<><p><em>BNA</em> (Kew), Treasury</p>', u'T70/1222,52<><p><em>BNA</em> (Kew), Treasury</p>', u'T70/936<><p><em>BNA</em> (Kew), Treasury</p>', u'CO1/31,32<><p><em>BNA</em> (Kew)</p>']\",\n          \"[u'CO28/30,130<><p><em>BNA</em> (Kew)</p>']\",\n          \"[u'Richardson,III<><p>Richardson, David, <em>Bristol</em><em>, Africa and the Eighteenth Century Slave Trade to America</em>: Volume 1, <em>The Years of Expansion, 1698-1729</em> (Bristol, 1986); Volume 2, <em>The Years of Ascendancy, 1730-1745</em> (Bristol, 1987); Volume 3, <em>The Years of Decline, 1746-1769</em> (Bristol, 1991); Volume 4, <em>The Final Years, 1770-1807</em> (Bristol, 1997)</p>', u'LList, 10 Nov 1761<><i>Lloyds\\\\u2019 Lists (1741, 1744, 1747-53, 1755, 1757-58, 1760-77, 1779-1808)</i>', u'Lambert,73,386<>Lambert, Sheila (ed.), <i>House of Commons Sessional Papers of the Eighteenth Century</i>, 145 vols. (Wilmington, DE, 1975).']\"\n        ],\n        \"semantic_type\": \"\",\n        \"description\": \"\"\n      }\n    }\n  ]\n}"
            }
          },
          "metadata": {},
          "execution_count": 10
        }
      ]
    },
    {
      "cell_type": "markdown",
      "id": "91143422-e360-4be0-8bae-afd42d835260",
      "metadata": {
        "id": "91143422-e360-4be0-8bae-afd42d835260"
      },
      "source": [
        "i mul0 mj**Double click to edit cell**     \n",
        "`Please type your answer here`\n",
        "</br>\n",
        "</br>\n",
        "</br>\n",
        "\n",
        "---\n"
      ]
    },
    {
      "cell_type": "markdown",
      "id": "141f7b97-6853-4382-9bca-12be87c446b3",
      "metadata": {
        "id": "141f7b97-6853-4382-9bca-12be87c446b3"
      },
      "source": [
        "### 3. Are the data types for each column appropriate? Please explain how they are/not approrpiate for your analysis."
      ]
    },
    {
      "cell_type": "code",
      "source": [],
      "metadata": {
        "id": "UfhpiqNnL5M8"
      },
      "id": "UfhpiqNnL5M8",
      "execution_count": null,
      "outputs": []
    },
    {
      "cell_type": "markdown",
      "id": "bab74918-52ee-4c6d-80da-b7370081e52d",
      "metadata": {
        "id": "bab74918-52ee-4c6d-80da-b7370081e52d"
      },
      "source": [
        "**Double click to edit cell**     \n",
        "`Please type your answer here`\n",
        "In the beginning of the chart you can see that there are two results for Spain/ Urguguay. They both have the same results and the same year; however, the error that appears to be there is that they both have different voyage Id's. The first voyage Id being 11297 and the other being 11298. the reason why this isn't appropiate is due to the fact that it just seems funny how for in Spain during 1526 both information that was collected were the same in terms of the total amount of people embarked and disembarked also, it shows the same captain for both which is Estaban Carega ; however, they have different voyage Id's. Another reason is that for each column you can see that the data that was collected does not tell whether not if the person is a child, a man, or a woman.\n",
        "\n",
        "---\n"
      ]
    },
    {
      "cell_type": "markdown",
      "id": "37658740-c9ca-465f-a3d0-a33da65ecb91",
      "metadata": {
        "id": "37658740-c9ca-465f-a3d0-a33da65ecb91"
      },
      "source": [
        "### 4. What is the overall average proportion of ```percent_women```, ```percent_children```, ```percent_men```?"
      ]
    },
    {
      "cell_type": "markdown",
      "id": "b4e966c1-1247-4cbc-9a74-0553469d9beb",
      "metadata": {
        "id": "b4e966c1-1247-4cbc-9a74-0553469d9beb"
      },
      "source": [
        "**Double click to edit cell**     \n",
        "The overall average proprtion of women, children, and men can't be defined; therefore, it would be zero.\n"
      ]
    },
    {
      "cell_type": "markdown",
      "id": "8b2269c7-c46c-44bb-8333-1d8ba9022a61",
      "metadata": {
        "id": "8b2269c7-c46c-44bb-8333-1d8ba9022a61"
      },
      "source": [
        "### 5. How many of the column values for ```percent_women```, ```percent_children```, ```percent_men``` are left blank? Suggest 1 reason why majority of the values in these columns are blank."
      ]
    },
    {
      "cell_type": "code",
      "execution_count": null,
      "id": "a3b3b700-8339-49c2-9ca1-f35858f86e7e",
      "metadata": {
        "id": "a3b3b700-8339-49c2-9ca1-f35858f86e7e"
      },
      "outputs": [],
      "source": [
        "slave_voyages_df{'percentage_women','percentage_men','percentage_children'}.columms=10\n",
        "print(slave_voyages_df{'percentage_women','percentage_men','percentage_children'}.columns)\n",
        "10"
      ]
    },
    {
      "cell_type": "code",
      "source": [],
      "metadata": {
        "id": "OF49VsYmad5u"
      },
      "id": "OF49VsYmad5u",
      "execution_count": null,
      "outputs": []
    },
    {
      "cell_type": "code",
      "execution_count": null,
      "id": "a224a0e4-0e56-40f9-aa41-094882deb499",
      "metadata": {
        "id": "a224a0e4-0e56-40f9-aa41-094882deb499",
        "colab": {
          "base_uri": "https://localhost:8080/"
        },
        "outputId": "218f50e6-3e77-4a79-86bb-9e209c86b079"
      },
      "outputs": [
        {
          "output_type": "execute_result",
          "data": {
            "text/plain": [
              "10"
            ]
          },
          "metadata": {},
          "execution_count": 8
        }
      ],
      "source": [
        "10"
      ]
    },
    {
      "cell_type": "markdown",
      "id": "23d4de2a-aa0d-4165-bac4-1b53a8ee2030",
      "metadata": {
        "id": "23d4de2a-aa0d-4165-bac4-1b53a8ee2030"
      },
      "source": [
        "**Double click to edit cell**     \n",
        "There are 10 column values that are left blank for woman, man, and children. one of the reason why it could be listed as blank is due to the fact that they were jst described as propety and not people. Also, they weren'r born in hospitals after giing birth to a baby, the baby becomes a slave; furthermore, doesn't visit the hospital nor the man or woman.\n",
        "\n",
        "---\n"
      ]
    },
    {
      "cell_type": "markdown",
      "id": "43584358-9a8f-45a5-8383-5bf823d8c9be",
      "metadata": {
        "id": "43584358-9a8f-45a5-8383-5bf823d8c9be"
      },
      "source": [
        "### 6. Display all duplicated rows and remove the duplicates. Check that the duplicates were successfully removed. Please also suggest a reason why we would remove duplicates for our analysis.\n",
        "\n",
        "**Level-up**: How many duplicated rows do we have? Recall the methods we have used to help us count things."
      ]
    },
    {
      "cell_type": "code",
      "execution_count": null,
      "id": "6fffb099-3bb0-47d9-a75b-d5255d89ab7a",
      "metadata": {
        "id": "6fffb099-3bb0-47d9-a75b-d5255d89ab7a"
      },
      "outputs": [],
      "source": [
        "N/A"
      ]
    },
    {
      "cell_type": "code",
      "execution_count": null,
      "metadata": {
        "colab": {
          "base_uri": "https://localhost:8080/"
        },
        "id": "6uU_8SzCS04A",
        "outputId": "f09841d1-cf05-4bf4-ce8a-d5b9d9fd4508"
      },
      "outputs": [
        {
          "output_type": "execute_result",
          "data": {
            "text/plain": [
              "0"
            ]
          },
          "metadata": {},
          "execution_count": 22
        }
      ],
      "source": [
        "\n"
      ],
      "id": "6uU_8SzCS04A"
    },
    {
      "cell_type": "markdown",
      "id": "301e9714-6ce7-44cf-8bef-d497b30f511d",
      "metadata": {
        "id": "301e9714-6ce7-44cf-8bef-d497b30f511d"
      },
      "source": [
        "**Double click to edit cell**     \n",
        "`Please type your answer here`\n",
        "</br>\n",
        "</br>\n",
        "</br>\n",
        "\n",
        "\n",
        "---\n"
      ]
    },
    {
      "cell_type": "markdown",
      "id": "7ff8bfcd-4573-43a4-b58c-fb6d48516720",
      "metadata": {
        "id": "7ff8bfcd-4573-43a4-b58c-fb6d48516720"
      },
      "source": [
        "### 7. Please identify the **top 5 most common ports of arrival**.\n",
        "\n",
        "**Hint:** Check the columns ```place_of_landing```."
      ]
    },
    {
      "cell_type": "code",
      "execution_count": null,
      "id": "56a1e1aa-7fb3-497c-8055-bd1a5deca2f7",
      "metadata": {
        "id": "56a1e1aa-7fb3-497c-8055-bd1a5deca2f7"
      },
      "outputs": [],
      "source": [
        "#Your code here"
      ]
    },
    {
      "cell_type": "markdown",
      "id": "9bbe0198-c9b1-4527-9b3d-a09724730c4b",
      "metadata": {
        "id": "9bbe0198-c9b1-4527-9b3d-a09724730c4b"
      },
      "source": [
        "**Double click to edit cell**     \n",
        "Cuba, Mariel, Hispaniola, San Juan, Isla de pinas\n",
        "\n",
        "---\n"
      ]
    },
    {
      "cell_type": "markdown",
      "id": "c19dd975-9347-41f5-86e8-992b7bd26591",
      "metadata": {
        "id": "c19dd975-9347-41f5-86e8-992b7bd26591"
      },
      "source": [
        "### 8. Please plot the **top 5 enslavers/captors** from this dataset. Please choose the appropriate visualization (e.g. pie chart, bar chart) to display your finding."
      ]
    },
    {
      "cell_type": "code",
      "execution_count": null,
      "id": "ab225554-bc39-4841-ac90-26ddca5cae0f",
      "metadata": {
        "id": "ab225554-bc39-4841-ac90-26ddca5cae0f"
      },
      "outputs": [],
      "source": [
        "slave_voyages_df{top_five_enslavers}='Mesquiwta','Voyage Id 4395','Voyage Id 4998','Voyage Id 46554','Monteiro, Pero 4647'\n",
        "print(slave_voyages_df{top_five_enslavers})\n",
        "'Mesquiwta','Voyage Id 4395','Voyage Id 4998','Voyage Id 46554','Monteiro, Pero 4647'\n"
      ]
    },
    {
      "cell_type": "markdown",
      "id": "30b9934a-80f7-495e-bcb8-3210c57ce3a7",
      "metadata": {
        "id": "30b9934a-80f7-495e-bcb8-3210c57ce3a7"
      },
      "source": [
        "-----"
      ]
    },
    {
      "cell_type": "markdown",
      "id": "7e04fc1a-4956-4f0e-a90b-c5b2e1f66199",
      "metadata": {
        "id": "7e04fc1a-4956-4f0e-a90b-c5b2e1f66199"
      },
      "source": [
        "### 9. Having briefly explored the dataset, what further questions have emerged as you explored this dataset?    \n",
        "\n",
        "Please share your thoughts in a few sentences."
      ]
    },
    {
      "cell_type": "markdown",
      "id": "28712b05-f6a8-4a12-897c-949f96aaa466",
      "metadata": {
        "id": "28712b05-f6a8-4a12-897c-949f96aaa466"
      },
      "source": [
        "**Double click to edit cell**     \n",
        "is there any other possible way to know the exact percentage of men, women, and chilren during slavery although theyh were all listed as property? is the amount of people embarked and disembarked during slavery actually true meaning are these results actually factual. How do we know that there weren't any more mistakes knowing that we saw mistakes in the previious chart? Is this something that we can rely on or no?\n"
      ]
    },
    {
      "cell_type": "markdown",
      "id": "2721385e-5112-4bd0-a3da-deb1f793405a",
      "metadata": {
        "id": "2721385e-5112-4bd0-a3da-deb1f793405a"
      },
      "source": [
        "-----\n",
        "-----\n"
      ]
    },
    {
      "cell_type": "markdown",
      "id": "95ee26ad-cefa-4f9e-9e9f-6a635fb8900a",
      "metadata": {
        "id": "95ee26ad-cefa-4f9e-9e9f-6a635fb8900a"
      },
      "source": [
        "## Side quest challenge\n",
        "\n",
        "The side quest challenge is for extra credit. You can still get full credit for this activity even if you do not complete this challenge."
      ]
    },
    {
      "cell_type": "markdown",
      "id": "7699e2e7-deb7-411a-907b-e0b6760d3e14",
      "metadata": {
        "id": "7699e2e7-deb7-411a-907b-e0b6760d3e14"
      },
      "source": [
        "### 1. Which enslaver/captor had the highest difference between the total number of people who embarked and disembarked?\n",
        "\n",
        "**Hint:** You may need to [add a column](https://github.com/GCDigitalFellows/intro-pandas-dri-2022/blob/main/README.md#8-rename-select-drop-and-add-new-columns) to calculate the difference, use the [```.groupby```, ```.count()``` and ```.sort_values``` methods](https://github.com/GCDigitalFellows/intro-pandas-dri-2022/blob/main/README.md#9-sort-columns-groupby-columns--count-values) for this challenge."
      ]
    },
    {
      "cell_type": "code",
      "execution_count": null,
      "id": "f2f16094-80b6-4767-ba8e-a6b0784a63b6",
      "metadata": {
        "id": "f2f16094-80b6-4767-ba8e-a6b0784a63b6"
      },
      "outputs": [],
      "source": []
    },
    {
      "cell_type": "markdown",
      "id": "8a7e104a",
      "metadata": {
        "id": "8a7e104a"
      },
      "source": [
        "**Double click to edit cell**     \n",
        "`Please type your answer here`\n",
        "</br>\n",
        "</br>\n",
        "</br>\n",
        "\n",
        "---\n"
      ]
    }
  ],
  "metadata": {
    "kernelspec": {
      "display_name": "Python 3 (ipykernel)",
      "language": "python",
      "name": "python3"
    },
    "language_info": {
      "codemirror_mode": {
        "name": "ipython",
        "version": 3
      },
      "file_extension": ".py",
      "mimetype": "text/x-python",
      "name": "python",
      "nbconvert_exporter": "python",
      "pygments_lexer": "ipython3",
      "version": "3.11.5"
    },
    "colab": {
      "provenance": []
    }
  },
  "nbformat": 4,
  "nbformat_minor": 5
}